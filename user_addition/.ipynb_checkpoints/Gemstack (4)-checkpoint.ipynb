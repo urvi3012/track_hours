{
 "cells": [
  {
   "cell_type": "code",
   "execution_count": 1,
   "metadata": {},
   "outputs": [],
   "source": [
    "import webbrowser\n",
    "from bs4 import BeautifulSoup, NavigableString, Tag \n",
    "from selenium.webdriver.chrome.options import Options\n",
    "from selenium import webdriver\n",
    "import  os\n",
    "from selenium.webdriver.common.by import By\n",
    "from selenium.webdriver.support.ui import WebDriverWait\n",
    "from selenium.webdriver.support import expected_conditions as EC\n",
    "import sys\n",
    "from webdriver_manager.chrome import ChromeDriverManager\n",
    "from selenium.webdriver.support.select import Select\n",
    "chrome_options = Options()\n",
    "import time\n"
   ]
  },
  {
   "cell_type": "code",
   "execution_count": 2,
   "metadata": {},
   "outputs": [
    {
     "name": "stderr",
     "output_type": "stream",
     "text": [
      "[WDM] - Current google-chrome version is 87.0.4280\n",
      "[WDM] - Get LATEST driver version for 87.0.4280\n",
      "[WDM] - Driver [/home/user/.wdm/drivers/chromedriver/linux64/87.0.4280.88/chromedriver] found in cache\n"
     ]
    },
    {
     "name": "stdout",
     "output_type": "stream",
     "text": [
      " \n"
     ]
    }
   ],
   "source": [
    "prefs = {\"profile.default_content_setting_values.notifications\" : 2}  #block notifications\n",
    "chrome_options.add_experimental_option(\"prefs\",prefs)\n",
    "chrome_options.add_argument(\"--no-sandbox\")\n",
    "#chrome_options.add_argument(\"--headless\")\n",
    "#chrome_options.add_argument(\"--disable-setuid-sandbox\")\n",
    "chrome_options.add_argument(\"--disable-dev-shm-usage\")\n",
    "#chrome_options.add_argument('--disable-features=VizDisplayCompositor')\n",
    "driver = webdriver.Chrome(ChromeDriverManager().install(),options=chrome_options)"
   ]
  },
  {
   "cell_type": "code",
   "execution_count": null,
   "metadata": {},
   "outputs": [],
   "source": []
  },
  {
   "cell_type": "code",
   "execution_count": 3,
   "metadata": {},
   "outputs": [],
   "source": [
    "driver.get(\"https://partner.engineer.ai/login\")\n",
    "driver.implicitly_wait(20)\n",
    "driver.maximize_window()\n",
    "\n",
    "user_name='/html/body/app/div/div[4]/main/login/div/div[2]/form/div/div/div/div[1]/input'\n",
    "password='/html/body/app/div/div[4]/main/login/div/div[2]/form/div/div/div/div[2]/input'\n",
    "submit_button='/html/body/app/div/div[4]/main/login/div/div[2]/form/div/div/div/button'\n",
    "billing_button='/html/body/app/div/div[4]/main/core/div/left-menu/div/ul/li[3]'\n",
    "no_thanks_button='//*[@id=\"onesignal-slidedown-cancel-button\"]'\n",
    "tracked_hours_section='/html/body/app/div/div[4]/main/core/div/div/div/billing/ul/li[3]'\n",
    "dates_selection = '/html/body/app/div/div[4]/main/core/div/div/div/billing/app-tracked-hours/div[1]/div[1]/select'"
   ]
  },
  {
   "cell_type": "code",
   "execution_count": 4,
   "metadata": {},
   "outputs": [],
   "source": [
    "#on_login_page\n",
    "driver.find_element_by_xpath(user_name).send_keys('contact@gemstack.in')\n",
    "driver.find_element_by_xpath(password).send_keys('contact.gemstack')\n",
    "driver.find_element_by_xpath(submit_button).click()\n"
   ]
  },
  {
   "cell_type": "code",
   "execution_count": 5,
   "metadata": {},
   "outputs": [],
   "source": [
    "#choosing billing from left menu\n",
    "driver.implicitly_wait(20)\n",
    "driver.find_element_by_xpath(billing_button).click()\n",
    "\n",
    "'''\n",
    "#to_remove the popup\n",
    "no_thanks_element = WebDriverWait(driver, 20).until(\n",
    "EC.element_to_be_clickable((By.XPATH, no_thanks_button)))\n",
    "no_thanks_element.click()\n",
    "'''\n",
    "\n",
    "#to get active elements\n",
    "'''\n",
    "soup = BeautifulSoup(driver.page_source, 'html.parser')\n",
    "\n",
    "a=soup.select('li.active')\n",
    "print(\"print statement\", a)\n",
    "'''\n",
    "\n",
    "#try\n",
    "'''\n",
    "print(\"in\")\n",
    "\n",
    "\n",
    "print(\"out\")\n",
    "'''\n",
    "driver.implicitly_wait(120)\n",
    "'''elem = driver.switch_to_active_element()'''\n",
    "driver.find_element_by_xpath(tracked_hours_section).click()\n"
   ]
  },
  {
   "cell_type": "code",
   "execution_count": 6,
   "metadata": {},
   "outputs": [],
   "source": [
    "#/html/body/app/div/div[4]/main/core/div/div/div/billing/app-tracked-hours/div[2]/div[1]"
   ]
  },
  {
   "cell_type": "code",
   "execution_count": null,
   "metadata": {},
   "outputs": [],
   "source": []
  },
  {
   "cell_type": "code",
   "execution_count": 7,
   "metadata": {},
   "outputs": [],
   "source": [
    "soup = BeautifulSoup(driver.page_source, 'lxml')"
   ]
  },
  {
   "cell_type": "code",
   "execution_count": 8,
   "metadata": {},
   "outputs": [],
   "source": [
    "table = soup.find('div',attrs = {'class':'listing-table'})"
   ]
  },
  {
   "cell_type": "code",
   "execution_count": 9,
   "metadata": {},
   "outputs": [],
   "source": [
    "# columns = table.find('div',attrs = {'class':'tHead'})\n",
    "# columns = columns.findAll('div')\n",
    "# for i in columns:\n",
    "#     print(i.text)"
   ]
  },
  {
   "cell_type": "code",
   "execution_count": 10,
   "metadata": {},
   "outputs": [],
   "source": [
    "# driver.implicitly_wait(120)\n",
    "# tdata= soup.find('div',attrs = {'class':'tBody'})\n",
    "# tdata"
   ]
  },
  {
   "cell_type": "code",
   "execution_count": 11,
   "metadata": {},
   "outputs": [],
   "source": [
    "# records = tdata.findAll('div',attrs = {'class':'tr'})\n",
    "# len(records)"
   ]
  },
  {
   "cell_type": "code",
   "execution_count": 12,
   "metadata": {},
   "outputs": [],
   "source": [
    "#tdata"
   ]
  },
  {
   "cell_type": "code",
   "execution_count": 13,
   "metadata": {},
   "outputs": [
    {
     "data": {
      "text/plain": [
       "['NAME OF CREATOR', 'EMAIL ID', 'PROJECT NAME', 'TRACKED HOURS']"
      ]
     },
     "execution_count": 13,
     "metadata": {},
     "output_type": "execute_result"
    }
   ],
   "source": [
    "cols = driver.find_element_by_xpath('/html/body/app/div/div[4]/main/core/div/div/div/billing/app-tracked-hours/div[2]/div[1]').text\n",
    "cols = cols.split('\\n')\n",
    "cols"
   ]
  },
  {
   "cell_type": "code",
   "execution_count": 14,
   "metadata": {},
   "outputs": [
    {
     "data": {
      "text/plain": [
       "['Anuj Jain',\n",
       " 'anuj.jain@gemstack.in',\n",
       " 'Secure Printing',\n",
       " '73 Hr 24 Min',\n",
       " 'Arvind Mishra',\n",
       " 'arvind.mishra@gemstack.in',\n",
       " 'NSCC HPC PORTAL FINAL',\n",
       " '12 Hr 41 Min',\n",
       " 'Ayush Tayal',\n",
       " 'ayush.tayal@gemstack.in',\n",
       " 'Arctic Juice - Order and Loyalty (MVP)',\n",
       " '79 Hr 45 Min',\n",
       " 'Navneet Shirke',\n",
       " 'navneet@gemstack.in',\n",
       " 'LetsMarry',\n",
       " '85 Hr 20 Min',\n",
       " 'Prakash Sharma',\n",
       " 'prakash@gemstack.in',\n",
       " 'EDYOU Full/MVP',\n",
       " '88 Hr 3 Min',\n",
       " 'Shabnam M',\n",
       " 'shabnam.mansoori@gemstack.in',\n",
       " 'hubura',\n",
       " '0',\n",
       " 'Sunil Malviya',\n",
       " 'sunil.malviya@gemstack.in',\n",
       " 'VR Digital Platform MVP',\n",
       " '80 Hr 0 Min',\n",
       " 'Vishal Kanade',\n",
       " 'vishal.kanade@gemstack.in',\n",
       " 'hubura',\n",
       " '0 Hr 0 Min']"
      ]
     },
     "execution_count": 14,
     "metadata": {},
     "output_type": "execute_result"
    }
   ],
   "source": [
    "time.sleep(3)\n",
    "rows = driver.find_element_by_xpath('/html/body/app/div/div[4]/main/core/div/div/div/billing/app-tracked-hours/div[2]/div[2]').text\n",
    "rows = rows.split('\\n')\n",
    "rows"
   ]
  },
  {
   "cell_type": "code",
   "execution_count": 15,
   "metadata": {},
   "outputs": [],
   "source": [
    "import numpy as np\n",
    "arr = np.reshape(rows,(int(len(rows)/4),4))"
   ]
  },
  {
   "cell_type": "code",
   "execution_count": 20,
   "metadata": {},
   "outputs": [
    {
     "data": {
      "text/plain": [
       "[['Anuj Jain', 'anuj.jain@gemstack.in', 'Secure Printing', '33 Hr 30 Min'],\n",
       " ['Ayush Tayal',\n",
       "  'ayush.tayal@gemstack.in',\n",
       "  'Arctic Juice - Order and Loyalty (MVP)',\n",
       "  '32 Hr 0 Min'],\n",
       " ['Navneet Shirke', 'navneet@gemstack.in', 'LetsMarry', '42 Hr 36 Min'],\n",
       " ['Prakash Sharma', 'prakash@gemstack.in', 'EDYOU Full/MVP', '40 Hr 4 Min'],\n",
       " ['Sunil Malviya',\n",
       "  'sunil.malviya@gemstack.in',\n",
       "  'VR Digital Platform MVP',\n",
       "  '40 Hr 0 Min']]"
      ]
     },
     "execution_count": 20,
     "metadata": {},
     "output_type": "execute_result"
    }
   ],
   "source": []
  },
  {
   "cell_type": "code",
   "execution_count": null,
   "metadata": {},
   "outputs": [],
   "source": [
    "#driver.find_element_by_xpath(dates_selection).click()"
   ]
  },
  {
   "cell_type": "code",
   "execution_count": null,
   "metadata": {},
   "outputs": [],
   "source": [
    "#sel = Select(driver.find_element_by_xpath(dates_selection))"
   ]
  },
  {
   "cell_type": "code",
   "execution_count": 16,
   "metadata": {},
   "outputs": [
    {
     "data": {
      "text/plain": [
       "['15 Sep 2020 - 14 Oct 2020',\n",
       " '15 Oct 2020 - 14 Nov 2020',\n",
       " '15 Nov 2020 - 14 Dec 2020',\n",
       " '15 Dec 2020 - 14 Jan 2021',\n",
       " '15 Jan 2021 - 14 Feb 2021']"
      ]
     },
     "execution_count": 16,
     "metadata": {},
     "output_type": "execute_result"
    }
   ],
   "source": [
    "billing_cycles = driver.find_element_by_xpath('/html/body/app/div/div[4]/main/core/div/div/div/billing/app-tracked-hours/div[1]/div[1]/select').text\n",
    "billing_cycles = billing_cycles.split('\\n')\n",
    "billing_cycles"
   ]
  },
  {
   "cell_type": "code",
   "execution_count": 17,
   "metadata": {},
   "outputs": [],
   "source": [
    "finaldata = []\n",
    "for i in range(1,len(billing_cycles)+1):\n",
    "    driver.find_element_by_xpath(dates_selection+'/option['+str(i)+']').click()\n",
    "    time.sleep(3)\n",
    "    rows = driver.find_element_by_xpath('/html/body/app/div/div[4]/main/core/div/div/div/billing/app-tracked-hours/div[2]/div[2]').text\n",
    "    rows = rows.split('\\n')\n",
    "    rows = np.reshape(rows,(int(len(rows)/4),4))\n",
    "    rows = rows.tolist()\n",
    "    finaldata = finaldata+ rows\n"
   ]
  },
  {
   "cell_type": "code",
   "execution_count": null,
   "metadata": {},
   "outputs": [],
   "source": []
  },
  {
   "cell_type": "code",
   "execution_count": 18,
   "metadata": {},
   "outputs": [],
   "source": [
    "# finaldata = []\n",
    "driver.find_element_by_xpath(dates_selection+'/option['+str(2)+']').click()\n",
    "# time.sleep(3)\n",
    "# rows = driver.find_element_by_xpath('/html/body/app/div/div[4]/main/core/div/div/div/billing/app-tracked-hours/div[2]/div[2]').text\n",
    "# rows = rows.split('\\n')\n",
    "# rows = np.reshape(rows,(int(len(l)/4),4))\n",
    "# rows = rows.tolist()\n",
    "# finaldata = finaldata+ rows"
   ]
  },
  {
   "cell_type": "code",
   "execution_count": 19,
   "metadata": {},
   "outputs": [
    {
     "name": "stdout",
     "output_type": "stream",
     "text": [
      "['Ayush Tayal', 'ayush.tayal@gemstack.in', 'Sice Me/Full Build', '165 Hr 25 Min']\n",
      "['Prakash Sharma', 'prakash@gemstack.in', 'E-commerce App', '0']\n",
      "['Anuj Jain', 'anuj.jain@gemstack.in', 'Lamsah', '3 Hr 55 Min']\n",
      "['Arvind Mishra', 'arvind.mishra@gemstack.in', 'Fitness App', '58 Hr 38 Min']\n",
      "['Ayush Tayal', 'ayush.tayal@gemstack.in', 'Sice Me/Full Build', '183 Hr 35 Min']\n",
      "['Prakash Sharma', 'prakash@gemstack.in', 'EDYOU Full/MVP', '104 Hr 9 Min']\n",
      "['Sunil Malviya', 'sunil.malviya@gemstack.in', 'VR Digital Platform MVP', '34 Hr 0 Min']\n",
      "['Anuj Jain', 'anuj.jain@gemstack.in', 'Secure Printing', '132 Hr 57 Min']\n",
      "['Arvind Mishra', 'arvind.mishra@gemstack.in', 'Fitness App', '148 Hr 42 Min']\n",
      "['Ayush Tayal', 'ayush.tayal@gemstack.in', 'Sice Me/Full Build', '156 Hr 44 Min']\n",
      "['Navneet Shirke', 'navneet@gemstack.in', 'LetsMarry', '68 Hr 0 Min']\n",
      "['Prakash Sharma', 'prakash@gemstack.in', 'EDYOU Full/MVP', '168 Hr 3 Min']\n",
      "['Sunil Malviya', 'sunil.malviya@gemstack.in', 'VR Digital Platform MVP', '137 Hr 40 Min']\n",
      "['Anuj Jain', 'anuj.jain@gemstack.in', 'Secure Printing', '175 Hr 32 Min']\n",
      "['Arvind Mishra', 'arvind.mishra@gemstack.in', 'Fitness App', '24 Hr 0 Min']\n",
      "['Ayush Tayal', 'ayush.tayal@gemstack.in', 'Sice Me/Full Build', '71 Hr 29 Min']\n",
      "['Navneet Shirke', 'navneet@gemstack.in', 'LetsMarry', '151 Hr 22 Min']\n",
      "['Prakash Sharma', 'prakash@gemstack.in', 'EDYOU Full/MVP', '176 Hr 23 Min']\n",
      "['Sunil Malviya', 'sunil.malviya@gemstack.in', 'VR Digital Platform MVP', '142 Hr 1 Min']\n",
      "['Anuj Jain', 'anuj.jain@gemstack.in', 'Secure Printing', '73 Hr 24 Min']\n",
      "['Arvind Mishra', 'arvind.mishra@gemstack.in', 'NSCC HPC PORTAL FINAL', '12 Hr 41 Min']\n",
      "['Ayush Tayal', 'ayush.tayal@gemstack.in', 'Arctic Juice - Order and Loyalty (MVP)', '79 Hr 45 Min']\n",
      "['Navneet Shirke', 'navneet@gemstack.in', 'LetsMarry', '85 Hr 20 Min']\n",
      "['Prakash Sharma', 'prakash@gemstack.in', 'EDYOU Full/MVP', '88 Hr 3 Min']\n",
      "['Shabnam M', 'shabnam.mansoori@gemstack.in', 'hubura', '0']\n",
      "['Sunil Malviya', 'sunil.malviya@gemstack.in', 'VR Digital Platform MVP', '80 Hr 0 Min']\n",
      "['Vishal Kanade', 'vishal.kanade@gemstack.in', 'hubura', '0 Hr 0 Min']\n"
     ]
    }
   ],
   "source": [
    "for i in finaldata:\n",
    "    print(i)"
   ]
  },
  {
   "cell_type": "code",
   "execution_count": 21,
   "metadata": {},
   "outputs": [
    {
     "name": "stdout",
     "output_type": "stream",
     "text": [
      "\n",
      " 15 Sep 2020 - 14 Oct 2020 \n",
      "\n",
      "\n",
      "\n",
      "Ayush Tayal\n",
      "ayush.tayal@gemstack.in\n",
      "Sice Me/Full Build\n",
      "165 Hr 25 Min\n",
      "\n",
      "\n",
      "Prakash Sharma\n",
      "prakash@gemstack.in\n",
      "E-commerce App\n",
      "0\n",
      "\n",
      " 15 Oct 2020 - 14 Nov 2020 \n",
      "\n",
      "\n",
      "\n",
      "Anuj Jain\n",
      "anuj.jain@gemstack.in\n",
      "Lamsah\n",
      "3 Hr 55 Min\n",
      "\n",
      "\n",
      "Arvind Mishra\n",
      "arvind.mishra@gemstack.in\n",
      "Fitness App\n",
      "58 Hr 38 Min\n",
      "\n",
      "\n",
      "Ayush Tayal\n",
      "ayush.tayal@gemstack.in\n",
      "Sice Me/Full Build\n",
      "183 Hr 35 Min\n",
      "\n",
      "\n",
      "Prakash Sharma\n",
      "prakash@gemstack.in\n",
      "EDYOU Full/MVP\n",
      "104 Hr 9 Min\n",
      "\n",
      "\n",
      "Sunil Malviya\n",
      "sunil.malviya@gemstack.in\n",
      "VR Digital Platform MVP\n",
      "34 Hr 0 Min\n",
      "\n",
      " 15 Nov 2020 - 14 Dec 2020 \n",
      "\n",
      "\n",
      "\n",
      "Anuj Jain\n",
      "anuj.jain@gemstack.in\n",
      "Secure Printing\n",
      "132 Hr 57 Min\n",
      "\n",
      "\n",
      "Arvind Mishra\n",
      "arvind.mishra@gemstack.in\n",
      "Fitness App\n",
      "148 Hr 42 Min\n",
      "\n",
      "\n",
      "Ayush Tayal\n",
      "ayush.tayal@gemstack.in\n",
      "Sice Me/Full Build\n",
      "156 Hr 44 Min\n",
      "\n",
      "\n",
      "Navneet Shirke\n",
      "navneet@gemstack.in\n",
      "LetsMarry\n",
      "68 Hr 0 Min\n",
      "\n",
      "\n",
      "Prakash Sharma\n",
      "prakash@gemstack.in\n",
      "EDYOU Full/MVP\n",
      "168 Hr 3 Min\n",
      "\n",
      "\n",
      "Sunil Malviya\n",
      "sunil.malviya@gemstack.in\n",
      "VR Digital Platform MVP\n",
      "137 Hr 40 Min\n",
      "\n",
      " 15 Dec 2020 - 14 Jan 2021 \n",
      "\n",
      "\n",
      "\n",
      "Anuj Jain\n",
      "anuj.jain@gemstack.in\n",
      "Secure Printing\n",
      "175 Hr 32 Min\n",
      "\n",
      "\n",
      "Arvind Mishra\n",
      "arvind.mishra@gemstack.in\n",
      "Fitness App\n",
      "24 Hr 0 Min\n",
      "\n",
      "\n",
      "Ayush Tayal\n",
      "ayush.tayal@gemstack.in\n",
      "Sice Me/Full Build\n",
      "71 Hr 29 Min\n",
      "\n",
      "\n",
      "Navneet Shirke\n",
      "navneet@gemstack.in\n",
      "LetsMarry\n",
      "151 Hr 22 Min\n",
      "\n",
      "\n",
      "Prakash Sharma\n",
      "prakash@gemstack.in\n",
      "EDYOU Full/MVP\n",
      "176 Hr 23 Min\n",
      "\n",
      "\n",
      "Sunil Malviya\n",
      "sunil.malviya@gemstack.in\n",
      "VR Digital Platform MVP\n",
      "142 Hr 1 Min\n"
     ]
    }
   ],
   "source": [
    "\n",
    "for i in range(1,len(billing_cycles)+):\n",
    "    print(\"\\n\", billing_cycles[i-1], \"\\n\")\n",
    "    driver.find_element_by_xpath(dates_selection+'/option['+str(i)+']').click()\n",
    "    time.sleep(3)\n",
    "    rows = driver.find_element_by_xpath('/html/body/app/div/div[4]/main/core/div/div/div/billing/app-tracked-hours/div[2]/div[2]').text\n",
    "    rows = rows.split('\\n')\n",
    "    import numpy as np\n",
    "    arr = np.reshape(rows,(int(len(rows)/4),4))\n",
    "    for i in arr:\n",
    "        print(\"\\n\")\n",
    "        for j in i:\n",
    "            print(j)\n",
    "\n"
   ]
  },
  {
   "cell_type": "code",
   "execution_count": 31,
   "metadata": {},
   "outputs": [
    {
     "name": "stdout",
     "output_type": "stream",
     "text": [
      "Anuj Jain\n",
      "anuj.jain@gemstack.in\n",
      "Secure Printing\n",
      "175 Hr 32 Min\n",
      "Arvind Mishra\n"
     ]
    }
   ],
   "source": [
    "print(arr[0][0])\n",
    "print(arr[0][1])\n",
    "print(arr[0][2])\n",
    "print(arr[0][3])\n",
    "\n",
    "print(arr[1][0])"
   ]
  },
  {
   "cell_type": "code",
   "execution_count": 37,
   "metadata": {},
   "outputs": [
    {
     "name": "stdout",
     "output_type": "stream",
     "text": [
      "[['Anuj Jain' 'anuj.jain@gemstack.in' 'Secure Printing' '175 Hr 32 Min']\n",
      " ['Arvind Mishra' 'arvind.mishra@gemstack.in' 'Fitness App' '24 Hr 0 Min']\n",
      " ['Ayush Tayal' 'ayush.tayal@gemstack.in' 'Sice Me/Full Build'\n",
      "  '71 Hr 29 Min']\n",
      " ['Navneet Shirke' 'navneet@gemstack.in' 'LetsMarry' '151 Hr 22 Min']\n",
      " ['Prakash Sharma' 'prakash@gemstack.in' 'EDYOU Full/MVP' '176 Hr 23 Min']\n",
      " ['Sunil Malviya' 'sunil.malviya@gemstack.in' 'VR Digital Platform MVP'\n",
      "  '142 Hr 1 Min']]\n"
     ]
    }
   ],
   "source": [
    "for i in range(0, len(arr)):\n",
    "    for j in range(0,4):\n",
    "        print(arr[i][j])"
   ]
  },
  {
   "cell_type": "code",
   "execution_count": null,
   "metadata": {},
   "outputs": [],
   "source": []
  }
 ],
 "metadata": {
  "kernelspec": {
   "display_name": "Python 3",
   "language": "python",
   "name": "python3"
  },
  "language_info": {
   "codemirror_mode": {
    "name": "ipython",
    "version": 3
   },
   "file_extension": ".py",
   "mimetype": "text/x-python",
   "name": "python",
   "nbconvert_exporter": "python",
   "pygments_lexer": "ipython3",
   "version": "3.6.9"
  }
 },
 "nbformat": 4,
 "nbformat_minor": 4
}
